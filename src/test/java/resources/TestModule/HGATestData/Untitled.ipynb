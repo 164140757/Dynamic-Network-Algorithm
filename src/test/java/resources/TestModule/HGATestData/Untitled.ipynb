{
 "cells": [
  {
   "cell_type": "code",
   "execution_count": null,
   "metadata": {},
   "outputs": [],
   "source": [
    "from Bio import SeqIO\n",
    "from Bio.Blast import NCBIWWW\n",
    "my_query = SeqIO.read(\"test.fasta\", format=\"fasta\") \n",
    "result_handle = NCBIWWW.qblast(\"blastn\", \"nt\", my_query.seq)\n",
    "blast_result = open(\"my_blast.xml\", \"w\")\n",
    "blast_result.write(result_handle.read())\n",
    "blast_result.close()\n",
    "result_handle.close()\n"
   ]
  }
 ],
 "metadata": {
  "kernelspec": {
   "display_name": "Python 3",
   "language": "python",
   "name": "python3"
  },
  "language_info": {
   "codemirror_mode": {
    "name": "ipython",
    "version": 3
   },
   "file_extension": ".py",
   "mimetype": "text/x-python",
   "name": "python",
   "nbconvert_exporter": "python",
   "pygments_lexer": "ipython3",
   "version": "3.7.6"
  }
 },
 "nbformat": 4,
 "nbformat_minor": 4
}
