{
 "cells": [
  {
   "cell_type": "markdown",
   "metadata": {},
   "source": [
    "# Slicing in nodes' names within networks"
   ]
  },
  {
   "cell_type": "code",
   "execution_count": 18,
   "metadata": {},
   "outputs": [],
   "source": [
    "import pandas as pd \n",
    "\n",
    "# read tables \n",
    "df_host = pd.read_table(\"COV19_hosts_more_0.7.txt\", header=None)\n",
    "df_human = pd.read_table(\"humanPPI_score_more_0.7.txt\", header=None)\n",
    "\n",
    "# slice strings\n",
    "for i, row in df_host.iterrows():\n",
    "    df_host.at[i,0] = row[0][14:20]\n",
    "    df_host.at[i,1] = row[1][14:20]\n",
    "\n",
    "for i, row in df_human.iterrows():\n",
    "    df_human.at[i,0] = row[0][14:20]\n",
    "    df_human.at[i,1] = row[1][14:20]\n",
    "    \n",
    "# set data types\n",
    "df_host = df_host.astype(np.int)\n",
    "df_human = df_human.astype(np.int)\n"
   ]
  },
  {
   "cell_type": "code",
   "execution_count": 19,
   "metadata": {},
   "outputs": [],
   "source": [
    "import numpy as np\n",
    "\n",
    "# export txts\n",
    "np.savetxt(r'COV19_hosts_more_0.7_slice.txt', df_host.values, fmt='%d')\n",
    "np.savetxt(r'humanPPI_score_more_0.7_slice.txt', df_human.values, fmt='%d')"
   ]
  },
  {
   "cell_type": "markdown",
   "metadata": {},
   "source": [
    "# Analyse the diffusion result for nCoV19 host proteins vs human PPI(both confidence > 0.7)"
   ]
  },
  {
   "cell_type": "code",
   "execution_count": 59,
   "metadata": {},
   "outputs": [],
   "source": [
    "import pandas as pd\n",
    "import numpy as np\n",
    "\n",
    "# prepare data\n",
    "df_DK_score = pd.read_csv('Cytoscape/humanPPI_vs_Host_DKernel_scores.csv', dtype = {'name':object,'SCORES':np.float32})[['name','SCORES']]\n",
    "\n",
    "# set a list to store nodes in intervals with different scores\n",
    "l_score = []\n",
    "num_set = 10\n",
    "\n",
    "for i in range(0,num_set):\n",
    "    l_score.append(set())\n",
    "    \n",
    "# split max-min into intervals\n",
    "interval = df_DK_score['SCORES'].max() - df_DK_score['SCORES'].min()\n",
    "itv_list = [i*interval/num_set for i in range(1,num_set+1)]"
   ]
  },
  {
   "cell_type": "code",
   "execution_count": 60,
   "metadata": {},
   "outputs": [],
   "source": [
    "import math\n",
    "# iterate scores and feed the corresponding names into sets \n",
    "for (index, data) in df_DK_score.iterrows():\n",
    "    val = math.floor(data['SCORES']/interval*num_set)\n",
    "    # max value should be considered individually \n",
    "    if(val == num_set): val = num_set - 1\n",
    "    l_score[val].add(str(data['name']))"
   ]
  },
  {
   "cell_type": "markdown",
   "metadata": {},
   "source": [
    "# Visualize "
   ]
  },
  {
   "cell_type": "code",
   "execution_count": 92,
   "metadata": {},
   "outputs": [
    {
     "data": {
      "image/png": "[encoded data removed]",
      "text/plain": [
       "<Figure size 720x288 with 1 Axes>"
      ]
     },
     "metadata": {
      "needs_background": "light"
     },
     "output_type": "display_data"
    }
   ],
   "source": [
    "# histogram for visualizing l_score\n",
    "import matplotlib.pyplot as plt\n",
    "from matplotlib.ticker import FuncFormatter\n",
    "\n",
    "fig, ax = plt.subplots(figsize=(10,4))\n",
    "total = sum([len(l) for l in l_score])\n",
    "# formatter\n",
    "def percent(x, pos):\n",
    "    return '%1.1f%%' % (x/total*100)\n",
    "formatter = FuncFormatter(percent)\n",
    "\n",
    "ax.yaxis.set_major_formatter(formatter)\n",
    "rect = ax.bar([i*interval for i in range(1, num_set+1)],[len(l) for l in l_score])\n",
    "\n",
    "def autolabel(rects):\n",
    "    \"\"\"Attach a text label above each bar in *rects*, displaying its height.\"\"\"\n",
    "    for rect in rects:\n",
    "        height = rect.get_height()\n",
    "        ax.annotate('{}'.format(height),\n",
    "                    xy=(rect.get_x() + rect.get_width() / 2, height),\n",
    "                    xytext=(0, 0.6),  # 1 points vertical offset\n",
    "                    textcoords=\"offset points\",\n",
    "                    ha='center', va='bottom')\n",
    "autolabel(rect)\n",
    "      \n",
    "plt.title('Diffusion result of nCoV19 host proteins on HumanPPI', pad = 20.0)\n",
    "plt.ylabel('Percentage')\n",
    "plt.xlabel('Score')\n",
    "plt.savefig('img/Diffusion result of nCoV19 host proteins on HumanPPI.png',dpi = 200)\n",
    "plt.show()\n",
    "\n"
   ]
  },
  {
   "cell_type": "markdown",
   "metadata": {},
   "source": [
    "# Extract the target vicinity"
   ]
  },
  {
   "cell_type": "markdown",
   "metadata": {},
   "source": [
    "To extract the target proteins, there're serveral premises.\n",
    "\n",
    "1. nCoV19 host proteins(should have high scores in the diffusion algorithm as they're treated as the source) \n",
    "=> need verification\n",
    "2. a criteria to distinguish possible drug targets from the humanPPI\n",
    "=> a score range "
   ]
  }
 ],
 "metadata": {
  "kernelspec": {
   "display_name": "Python 3",
   "language": "python",
   "name": "python3"
  },
  "language_info": {
   "codemirror_mode": {
    "name": "ipython",
    "version": 3
   },
   "file_extension": ".py",
   "mimetype": "text/x-python",
   "name": "python",
   "nbconvert_exporter": "python",
   "pygments_lexer": "ipython3",
   "version": "3.7.7"
  }
 },
 "nbformat": 4,
 "nbformat_minor": 4
}
