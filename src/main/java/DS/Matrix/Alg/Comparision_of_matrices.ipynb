{
 "cells": [
  {
   "cell_type": "markdown",
   "metadata": {},
   "source": [
    "# Comparision between different types of matrix\n"
   ]
  },
  {
   "cell_type": "code",
   "execution_count": 17,
   "metadata": {},
   "outputs": [],
   "source": [
    "# environment settings\n",
    "\n",
    "# Visualization\n",
    "import matplotlib.pyplot as plt\n",
    "# System to get memory allocation\n",
    "import sys\n"
   ]
  },
  {
   "cell_type": "markdown",
   "metadata": {},
   "source": [
    "## The method for evaluating the size of an object"
   ]
  },
  {
   "cell_type": "code",
   "execution_count": 18,
   "metadata": {},
   "outputs": [],
   "source": [
    "'''\n",
    "Borrow from https://stackoverflow.com/a/30316760/11007369\n",
    "To get the memory size of an object.(Deep search)\n",
    "'''\n",
    "\n",
    "from types import ModuleType, FunctionType\n",
    "from gc import get_referents\n",
    "\n",
    "# Custom objects know their class.\n",
    "# Function objects seem to know way too much, including modules.\n",
    "# Exclude modules as well.\n",
    "BLACKLIST = type, ModuleType, FunctionType\n",
    "\n",
    "\n",
    "def getsize(obj):\n",
    "    \"\"\"sum size of object & members.\"\"\"\n",
    "    if isinstance(obj, BLACKLIST):\n",
    "        raise TypeError('getsize() does not take argument of type: '+ str(type(obj)))\n",
    "    seen_ids = set()\n",
    "    size = 0\n",
    "    objects = [obj]\n",
    "    while objects:\n",
    "        need_referents = []\n",
    "        for obj in objects:\n",
    "            if not isinstance(obj, BLACKLIST) and id(obj) not in seen_ids:\n",
    "                seen_ids.add(id(obj))\n",
    "                size += sys.getsizeof(obj)\n",
    "                need_referents.append(obj)\n",
    "        objects = get_referents(*need_referents)\n",
    "    return size/1024"
   ]
  },
  {
   "cell_type": "markdown",
   "metadata": {},
   "source": [
    "## Different matrices"
   ]
  },
  {
   "cell_type": "markdown",
   "metadata": {},
   "source": [
    "### List of lists (LIL)"
   ]
  },
  {
   "cell_type": "markdown",
   "metadata": {},
   "source": [
    "<img src='img/Triples_to_LIL.png' width=800>\n",
    "\n",
    "* The List is consist of inner lists which are sorted by rows ascendingly. \n",
    "* Each inner list connects the non-zero items with sorted columns "
   ]
  },
  {
   "cell_type": "code",
   "execution_count": 23,
   "metadata": {},
   "outputs": [],
   "source": [
    "# classes for the triple matrix\n",
    "\n",
    "'''\n",
    "Triple is a very basic element in the triple matrix, which is consisted of a list that connects \n",
    "all non_zero rows. A non_zero row contains non_zeros' column indexes and values. The back-stage mechanism is the binary search.\n",
    "'''\n",
    "\n",
    "class Triple:\n",
    "    def __init__(self, row):\n",
    "        # safety check \n",
    "        if(row < 0):\n",
    "            raise Exception('row should be positive.')\n",
    "        self.row = row\n",
    "        self.colList = []\n",
    "        self.valList = []\n",
    "    def __repr__(self):\n",
    "        return 'row: {}\\nColumn List:\\t{}\\nValue List:\\t{}'.format(\n",
    "            self.row,\n",
    "            ',\\t'.join(str(c) for c in self.colList),\n",
    "            ',\\t'.join(str(v) for v in self.valList))\n",
    "        \n",
    "    def __str__(self):\n",
    "        ret = ['{}\\t{}\\t{}\\n'.format(\n",
    "            self.row,\n",
    "            self.colList[i],\n",
    "            self.valList[i] \n",
    "        ) for i in range(0, len(self.colList))]\n",
    "        return '\\n'.join(ret)\n",
    "    \n",
    "      \n",
    "        \n",
    "    def add(self, col, val):\n",
    "        # saftey check \n",
    "        if(col < 0):\n",
    "            raise Exception('col should be positive.')\n",
    "        # check if there is a column index in the colList\n",
    "        if(col in self.colList):\n",
    "            idx = self.colList.index(col)\n",
    "            self.colList[idx] = col\n",
    "            self.valList[idx] = val\n",
    "       # insert an item into the triple\n",
    "        else:\n",
    "            idx = bct.bisect_left(self.colList, col)\n",
    "            self.colList.insert(idx, col)\n",
    "            self.valList.insert(idx, val)      "
   ]
  },
  {
   "cell_type": "code",
   "execution_count": 54,
   "metadata": {},
   "outputs": [
    {
     "data": {
      "text/plain": [
       "row: 3\n",
       "Column List:\t2,\t3\n",
       "Value List:\t2.0,\t5.0"
      ]
     },
     "execution_count": 54,
     "metadata": {},
     "output_type": "execute_result"
    }
   ],
   "source": [
    "# test \n",
    "t = Triple(3)\n",
    "t.add(2, 3.)\n",
    "t.add(3, 5.)\n",
    "t.add(2, 2.)\n",
    "t"
   ]
  },
  {
   "cell_type": "code",
   "execution_count": 55,
   "metadata": {},
   "outputs": [
    {
     "name": "stdout",
     "output_type": "stream",
     "text": [
      "3\t2\t2.0\n",
      "\n",
      "3\t3\t5.0\n",
      "\n"
     ]
    }
   ],
   "source": [
    "print(t)"
   ]
  },
  {
   "cell_type": "code",
   "execution_count": 24,
   "metadata": {},
   "outputs": [],
   "source": [
    "import bisect as bct\n",
    "\n",
    "'''\n",
    "TripleMatrix maintains the row indexes in the ascending order since the beginning, also for each Triple in the list, \n",
    "columns' indexes are kept too. The back-stage mechanism is the binary search.\n",
    "'''\n",
    "\n",
    "class TripleMatrix:\n",
    "    def __init__(self, row, col):\n",
    "           # safety check \n",
    "        if(row < 0 or col < 0):\n",
    "            raise Exception('row and column numbers are positive.')\n",
    "        # matrix size\n",
    "        self.row = row\n",
    "        self.col = col\n",
    "        # non_zero list\n",
    "        self.nzList = []\n",
    "        # record rows indexes\n",
    "        self.rows = []\n",
    "        \n",
    "    def __repr__(self):\n",
    "        return '\\n'.join(n.__str__() for n in self.nzList)\n",
    "    \n",
    "    def __str__(self):\n",
    "        return 'row: {}\\ncol: {}\\n\\nRow\\tColumn\\tValue\\n{}'.format(self.row, self.col, self.__repr__())\n",
    "    \n",
    "    def set(self, row, col, val):\n",
    "        # check \n",
    "        if(row >= self.row or col >= self.col):\n",
    "            raise Exception('out of matrix bound.')\n",
    "        # found\n",
    "        if(row in self.rows):\n",
    "            idx = self.rows.index(row)\n",
    "            self.nzList[idx].add(col, val)\n",
    "        else:\n",
    "            idx = bct.bisect_left(self.rows, row)\n",
    "            self.rows.insert(idx, row)\n",
    "            triple = Triple(row)\n",
    "            triple.add(col, val)\n",
    "            self.nzList.insert(idx, triple)"
   ]
  },
  {
   "cell_type": "code",
   "execution_count": 73,
   "metadata": {},
   "outputs": [],
   "source": [
    "# test\n",
    "t = TripleMatrix(2, 3)\n",
    "t.set(1,1,2.2)\n",
    "t.set(0,2,3.)\n",
    "t.set(0,1,2.)\n",
    "t.set(0,1,3.3)"
   ]
  },
  {
   "cell_type": "code",
   "execution_count": 74,
   "metadata": {},
   "outputs": [
    {
     "data": {
      "text/plain": [
       "0\t1\t3.3\n",
       "\n",
       "0\t2\t3.0\n",
       "\n",
       "1\t1\t2.2"
      ]
     },
     "execution_count": 74,
     "metadata": {},
     "output_type": "execute_result"
    }
   ],
   "source": [
    "t"
   ]
  },
  {
   "cell_type": "code",
   "execution_count": 75,
   "metadata": {},
   "outputs": [
    {
     "name": "stdout",
     "output_type": "stream",
     "text": [
      "row: 2\n",
      "col: 3\n",
      "\n",
      "Row\tColumn\tValue\n",
      "0\t1\t3.3\n",
      "\n",
      "0\t2\t3.0\n",
      "\n",
      "1\t1\t2.2\n",
      "\n"
     ]
    }
   ],
   "source": [
    "print(t)"
   ]
  },
  {
   "cell_type": "markdown",
   "metadata": {},
   "source": [
    "### Compressed sparse column(CSC)"
   ]
  },
  {
   "cell_type": "markdown",
   "metadata": {},
   "source": [
    "<img src='img/CSC.png' width = 600>\n",
    "\n",
    "Why not break down the lists since there will be cost both in storage and time to maintain the data structure?\n",
    "<br>\n",
    "If we could find the relationship between indexes and the data, the problem will be solved out.\n",
    "<br>\n",
    "Each column could be compressed into a vector including all data in a column, like the example below.\n",
    "\n",
    "<img src='img/CSC_2.png' width = 800> \n",
    "\n",
    "Use binary search to speed up"
   ]
  },
  {
   "cell_type": "code",
   "execution_count": 34,
   "metadata": {},
   "outputs": [],
   "source": [
    "from math import floor\n",
    "\n",
    "\n",
    "def binary_search(Array, Search_Term, L, R):\n",
    "    # R should be reset\n",
    "    R = R - 1 \n",
    "    while L <= R:\n",
    "        mid = floor((L + R) / 2)\n",
    "        if Array[mid] < Search_Term:\n",
    "            L = mid + 1\n",
    "        elif Array[mid] > Search_Term:\n",
    "            R = mid - 1\n",
    "        else:\n",
    "            return mid\n",
    "    return -1\n"
   ]
  },
  {
   "cell_type": "code",
   "execution_count": 28,
   "metadata": {},
   "outputs": [],
   "source": [
    "class CSC:\n",
    "    def __init__(self, row, col):\n",
    "        # safety check\n",
    "        if row < 0 or col < 0:\n",
    "            raise Exception('row and column numbers are positive.')\n",
    "        self.row = row\n",
    "        self.col = col\n",
    "        # initialize data, reference values\n",
    "        self.data = []\n",
    "        #  Specifies which row a specific non-zero value corresponds to\n",
    "        self.f_rows = []\n",
    "        # Stores the range of indexes in the non-zero lists that belong to each column.\n",
    "        self.f_cols = [0] * (col + 1)\n",
    "\n",
    "    def __repr__(self):\n",
    "        nz_list = []\n",
    "        for r in range(0, self.row):\n",
    "            for c in range(0, self.col):\n",
    "                idx = self.get_idx(r, c)\n",
    "                if(idx != -1):\n",
    "                    nz_list.append('{}\\t'.format(self.data[idx]))\n",
    "                else:\n",
    "                    nz_list.append('{}\\t'.format(0.))\n",
    "            nz_list.append('\\n')\n",
    "        return ''.join(nz_list)\n",
    "\n",
    "    def __str__(self):\n",
    "        return 'row: {}\\ncol: {}\\n\\n{}'.format(self.row, self.col, self.__repr__())\n",
    "\n",
    "    # boundary condition => empty\n",
    "    def set(self, row, col, val):\n",
    "        # safety check\n",
    "        if row >= self.row or col >= self.col:\n",
    "            raise Exception('out of matrix bound.')\n",
    "\n",
    "        idx = self.get_idx(row, col)\n",
    "        #  not exist\n",
    "        if idx == -1:\n",
    "            idx_0 = self.f_cols[col]\n",
    "            idx_1 = self.f_cols[col + 1]\n",
    "            idx = idx_0\n",
    "\n",
    "            # determine the index the new element should be inserted at\n",
    "            for idx in range(idx_0, idx_1):\n",
    "                if row < self.f_rows[idx]:\n",
    "                    break\n",
    "\n",
    "            # shift\n",
    "            for i in range(col + 1, len(self.f_cols)):\n",
    "                self.f_cols[i] = self.f_cols[i] + 1\n",
    "                \n",
    "            self.f_rows.insert(idx, row)\n",
    "            self.data.insert(idx,val)\n",
    "\n",
    "        else:\n",
    "            self.data[idx] = val\n",
    "\n",
    "    # return data index\n",
    "    def get_idx(self, row, col):\n",
    "        # safety check\n",
    "        if row < 0 or col < 0:\n",
    "            raise Exception('row and column numbers are positive.')\n",
    "        if row >= self.row or col >= self.col:\n",
    "            raise Exception('out of matrix bound.')\n",
    "\n",
    "        # get the column range\n",
    "        idx_0 = self.f_cols[col]\n",
    "        idx_1 = self.f_cols[col + 1]\n",
    "\n",
    "        # check row in the same index using binary search\n",
    "        nz_idx = binary_search(self.f_rows, row, idx_0, idx_1)\n",
    "\n",
    "        # not found\n",
    "        return nz_idx\n",
    "\n",
    "\n",
    "\n"
   ]
  },
  {
   "cell_type": "code",
   "execution_count": 35,
   "metadata": {},
   "outputs": [
    {
     "name": "stdout",
     "output_type": "stream",
     "text": [
      "row: 3\n",
      "col: 2\n",
      "\n",
      "0.0\t0.0\t\n",
      "0.0\t2.2\t\n",
      "1.2\t0.2\t\n",
      "\n"
     ]
    }
   ],
   "source": [
    "csc = CSC(3, 2)\n",
    "csc.set(2, 1, 0.2)\n",
    "csc.set(2, 0, 8.)\n",
    "csc.set(1, 1, 2.2)\n",
    "csc.set(2, 0, 1.2)\n",
    "\n",
    "print(csc)"
   ]
  },
  {
   "cell_type": "code",
   "execution_count": 12,
   "metadata": {},
   "outputs": [
    {
     "data": {
      "text/plain": [
       "[1.2, 8.0, 2.2, 0.2]"
      ]
     },
     "execution_count": 12,
     "metadata": {},
     "output_type": "execute_result"
    }
   ],
   "source": [
    "csc.data"
   ]
  },
  {
   "cell_type": "markdown",
   "metadata": {},
   "source": [
    "### Dense matrix(DM)"
   ]
  },
  {
   "cell_type": "code",
   "execution_count": 20,
   "metadata": {},
   "outputs": [],
   "source": [
    "class DM:\n",
    "    def __init__(self, row, col):\n",
    "        # safety check \n",
    "        if(row < 0 or col < 0):\n",
    "            raise Exception('row and column numbers are positive.')\n",
    "        self.row = row\n",
    "        self.col = col\n",
    "        # fix length\n",
    "        self.data = [0.]*(row*col)\n",
    "    \n",
    "    def __repr__(self):\n",
    "        return '\\n'.join('\\t'.join(str(self.get(i, j)) for j in range(0, self.col)) for i in range(0, self.row))\n",
    "    \n",
    "    def __str__(self):\n",
    "        return 'row: {}\\ncol: {}\\n\\n{}'.format(self.row, self.col, self.__repr__())\n",
    "    \n",
    "    def set(self, row, col, val):\n",
    "        # safety check \n",
    "        if(row >= self.row or col >= self.col):\n",
    "            raise Exception('out of matrix bound.')\n",
    "        self.data[self.index(row,col)] = val\n",
    "    \n",
    "    def get(self, row, col):\n",
    "         # safety check \n",
    "        if(row >= self.row or col >= self.col or row < 0 or col < 0):\n",
    "            raise Exception('out of matrix bound.')\n",
    "        return self.data[self.index(row,col)]\n",
    "                         \n",
    "    def index(self, row, col):\n",
    "        return row*self.col + col\n",
    "    "
   ]
  },
  {
   "cell_type": "code",
   "execution_count": 88,
   "metadata": {},
   "outputs": [
    {
     "data": {
      "text/plain": [
       "0.0 1.0 0.0\n",
       "0.0 0.0 2.2"
      ]
     },
     "execution_count": 88,
     "metadata": {},
     "output_type": "execute_result"
    }
   ],
   "source": [
    "# test\n",
    "dm = DM(2,3)\n",
    "dm.set(1, 2, 2.2)\n",
    "dm.set(0, 1, 1. )\n",
    "dm"
   ]
  },
  {
   "cell_type": "code",
   "execution_count": 89,
   "metadata": {},
   "outputs": [
    {
     "name": "stdout",
     "output_type": "stream",
     "text": [
      "row: 2\n",
      "col: 3\n",
      "\n",
      "0.0 1.0 0.0\n",
      "0.0 0.0 2.2\n"
     ]
    }
   ],
   "source": [
    "print(dm)"
   ]
  },
  {
   "cell_type": "markdown",
   "metadata": {},
   "source": [
    "## Storage test"
   ]
  },
  {
   "cell_type": "code",
   "execution_count": null,
   "metadata": {},
   "outputs": [],
   "source": [
    "import numpy as np\n",
    "from random import *\n",
    "# square matrixes sizes\n",
    "test_size = [100, 500, 1000]\n",
    "# empty rate\n",
    "et_list = np.linspace(0, 1, 11).tolist() \n",
    "# figures\n",
    "idx = 0\n",
    "fig, axs = plt.subplots(3, 1, figsize=(7, 5))\n",
    "lines = []\n",
    "fig.subplots_adjust(top=0.8)\n",
    "\n",
    "# set random matrix\n",
    "for ts in test_size:\n",
    "    # memory size\n",
    "    ms_dm = []\n",
    "    ms_csc = []\n",
    "    ms_tm = []\n",
    "    for et in et_list:\n",
    "        # non-zeros number\n",
    "        nz = (int)(ts*ts*(1-et))\n",
    "        \n",
    "        # Matrices\n",
    "        dm = DM(ts, ts)\n",
    "        csc = CSC(ts, ts)\n",
    "        tm = TripleMatrix(ts, ts)\n",
    "    \n",
    "        # random locations\n",
    "        xy = np.random.randint(0,ts,size=(nz, 2))\n",
    "        # set matrix\n",
    "        for i in range(0, nz):\n",
    "            x = xy[i, 0]\n",
    "            y = xy[i, 1]\n",
    "            val = random()\n",
    "            dm.set(x, y, val)\n",
    "            csc.set(x, y, val)\n",
    "            tm.set(x, y, val)\n",
    "        # record memory cost\n",
    "        ms_dm.append(getsize(dm))\n",
    "        ms_csc.append(getsize(csc))\n",
    "        ms_tm.append(getsize(tm))\n",
    "    \n",
    "    # visualize\n",
    "    axs[idx].plot(et_list, ms_dm, label='Dense Matrix', color='red')\n",
    "    axs[idx].plot(et_list, ms_csc, label='Compressed sparse column', color='blue')\n",
    "    axs[idx].plot(et_list, ms_tm, label= 'List of Lists', color='green')\n",
    "    axs[idx].set_title('{} * {}'.format(ts, ts))\n",
    "    idx = idx + 1\n",
    "    if(idx == len(test_size)):\n",
    "        handles, labels = axs[idx-1].get_legend_handles_labels()\n",
    "        \n",
    "# Create the legend\n",
    "fig.legend(handles,     # The line objects\n",
    "           labels = labels,   # The labels for each line\n",
    "           loc=\"center right\",   # Position of legend\n",
    "           bbox_to_anchor=(1.4, 0.5),\n",
    "           title=\"Matrix types\"  # Title for the legend\n",
    "           )\n",
    "\n",
    "fig.tight_layout()\n",
    "plt.xlabel('Percentage of vacancy')\n",
    "axs[1].set_ylabel('Memory cost(MB)')\n",
    "\n",
    "\n",
    "plt.savefig('img\\storage.png'.format(ts), dpi=300)"
   ]
  },
  {
   "cell_type": "code",
   "execution_count": null,
   "metadata": {},
   "outputs": [],
   "source": []
  }
 ],
 "metadata": {
  "kernelspec": {
   "display_name": "Python 3",
   "language": "python",
   "name": "python3"
  },
  "language_info": {
   "codemirror_mode": {
    "name": "ipython",
    "version": 3
   },
   "file_extension": ".py",
   "mimetype": "text/x-python",
   "name": "python",
   "nbconvert_exporter": "python",
   "pygments_lexer": "ipython3",
   "version": "3.7.9"
  },
  "toc-autonumbering": true
 },
 "nbformat": 4,
 "nbformat_minor": 4
}
