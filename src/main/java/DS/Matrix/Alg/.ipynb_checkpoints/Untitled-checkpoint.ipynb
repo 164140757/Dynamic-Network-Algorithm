{
 "cells": [
  {
   "cell_type": "markdown",
   "metadata": {},
   "source": [
    "# Comparision between different types of matrix\n"
   ]
  },
  {
   "cell_type": "code",
   "execution_count": 22,
   "metadata": {},
   "outputs": [],
   "source": [
    "# environment settings\n",
    "\n",
    "# Visualization\n",
    "import matplotlib.pyplot as plt\n",
    "# Math\n",
    "import bisect as bct\n",
    "# System to get memory allocation\n",
    "import sys"
   ]
  },
  {
   "cell_type": "code",
   "execution_count": null,
   "metadata": {},
   "outputs": [],
   "source": []
  },
  {
   "cell_type": "code",
   "execution_count": null,
   "metadata": {},
   "outputs": [],
   "source": [
    "'''\n",
    "Borrow from https://stackoverflow.com/a/30316760/11007369\n",
    "'''\n",
    "\n",
    "from types import ModuleType, FunctionType\n",
    "from gc import get_referents\n",
    "\n",
    "# Custom objects know their class.\n",
    "# Function objects seem to know way too much, including modules.\n",
    "# Exclude modules as well.\n",
    "BLACKLIST = type, ModuleType, FunctionType\n",
    "\n",
    "\n",
    "def getsize(obj):\n",
    "    \"\"\"sum size of object & members.\"\"\"\n",
    "    if isinstance(obj, BLACKLIST):\n",
    "        raise TypeError('getsize() does not take argument of type: '+ str(type(obj)))\n",
    "    seen_ids = set()\n",
    "    size = 0\n",
    "    objects = [obj]\n",
    "    while objects:\n",
    "        need_referents = []\n",
    "        for obj in objects:\n",
    "            if not isinstance(obj, BLACKLIST) and id(obj) not in seen_ids:\n",
    "                seen_ids.add(id(obj))\n",
    "                size += sys.getsizeof(obj)\n",
    "                need_referents.append(obj)\n",
    "        objects = get_referents(*need_referents)\n",
    "    return size"
   ]
  },
  {
   "cell_type": "code",
   "execution_count": 16,
   "metadata": {},
   "outputs": [],
   "source": [
    "# classes for the triple matrix\n",
    "\n",
    "'''\n",
    "Triple is a very basic element in the triple matrix, which is consisted of a list that connects \n",
    "all non_zero rows. A non_zero row contains non_zeros' column indexes and values.\n",
    "'''\n",
    "\n",
    "class Triple:\n",
    "    def __init__(self, row):\n",
    "        self.row = row\n",
    "        self.colList = []\n",
    "        self.valList = []\n",
    "# add an element\n",
    "    def add(self, col, val):\n",
    "        # check if there is a column index in the colList\n",
    "        if(col in self.colList):\n",
    "            idx = self.colList.index(col)\n",
    "            self.colList[idx] = col\n",
    "            self.valList[idx] = val\n",
    "       # insert an item into the triple\n",
    "        else:\n",
    "            idx = bct.bisect_left(self.colList, col)\n",
    "            self.colList.insert(idx, col)\n",
    "            self.valList.insert(idx, val)\n",
    "        \n",
    "'''\n",
    "TripleMatrix maintains the row indexes in the ascending order since the beginning, also for each Triple in the list, \n",
    "columns' indexes are kept too. The back-stage mechanism is the binary search.\n",
    "'''\n",
    "\n",
    "class TripleMatrix:\n",
    "    def __init__(self, row, col):\n",
    "        self.row = row\n",
    "        self.col = col\n",
    "      "
   ]
  },
  {
   "cell_type": "code",
   "execution_count": 23,
   "metadata": {},
   "outputs": [
    {
     "data": {
      "text/plain": [
       "56"
      ]
     },
     "execution_count": 23,
     "metadata": {},
     "output_type": "execute_result"
    }
   ],
   "source": [
    "triple = Triple(2)\n",
    "sys.getsizeof(triple)"
   ]
  },
  {
   "cell_type": "code",
   "execution_count": 24,
   "metadata": {},
   "outputs": [
    {
     "data": {
      "text/plain": [
       "28"
      ]
     },
     "execution_count": 24,
     "metadata": {},
     "output_type": "execute_result"
    }
   ],
   "source": [
    "sys.getsizeof(2)"
   ]
  }
 ],
 "metadata": {
  "kernelspec": {
   "display_name": "Python 3",
   "language": "python",
   "name": "python3"
  },
  "language_info": {
   "codemirror_mode": {
    "name": "ipython",
    "version": 3
   },
   "file_extension": ".py",
   "mimetype": "text/x-python",
   "name": "python",
   "nbconvert_exporter": "python",
   "pygments_lexer": "ipython3",
   "version": "3.7.9"
  }
 },
 "nbformat": 4,
 "nbformat_minor": 4
}
